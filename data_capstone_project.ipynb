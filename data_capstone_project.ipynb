{
 "cells": [
  {
   "cell_type": "code",
   "execution_count": 1,
   "id": "d4267d89-3c03-4f22-9a20-0f9981e0437f",
   "metadata": {},
   "outputs": [],
   "source": [
    "import pandas as pd\n",
    "import numpy as np"
   ]
  },
  {
   "cell_type": "code",
   "execution_count": 2,
   "id": "678b53a8-bb41-4c26-bd0f-15497ad0f6f2",
   "metadata": {},
   "outputs": [],
   "source": [
    "df = pd.read_csv(r\"Countries.csv\")"
   ]
  },
  {
   "cell_type": "code",
   "execution_count": 3,
   "id": "1704fc8f-55d6-4e18-8189-06f3e78e3b69",
   "metadata": {},
   "outputs": [
    {
     "data": {
      "text/html": [
       "<div>\n",
       "<style scoped>\n",
       "    .dataframe tbody tr th:only-of-type {\n",
       "        vertical-align: middle;\n",
       "    }\n",
       "\n",
       "    .dataframe tbody tr th {\n",
       "        vertical-align: top;\n",
       "    }\n",
       "\n",
       "    .dataframe thead th {\n",
       "        text-align: right;\n",
       "    }\n",
       "</style>\n",
       "<table border=\"1\" class=\"dataframe\">\n",
       "  <thead>\n",
       "    <tr style=\"text-align: right;\">\n",
       "      <th></th>\n",
       "      <th>country</th>\n",
       "      <th>country_long</th>\n",
       "      <th>currency</th>\n",
       "      <th>capital_city</th>\n",
       "      <th>region</th>\n",
       "      <th>continent</th>\n",
       "      <th>demonym</th>\n",
       "      <th>latitude</th>\n",
       "      <th>longitude</th>\n",
       "      <th>agricultural_land</th>\n",
       "      <th>...</th>\n",
       "      <th>population</th>\n",
       "      <th>women_parliament_seats_pct</th>\n",
       "      <th>rural_population</th>\n",
       "      <th>urban_population</th>\n",
       "      <th>press</th>\n",
       "      <th>democracy_score</th>\n",
       "      <th>democracy_type</th>\n",
       "      <th>median_age</th>\n",
       "      <th>political_leader</th>\n",
       "      <th>title</th>\n",
       "    </tr>\n",
       "  </thead>\n",
       "  <tbody>\n",
       "    <tr>\n",
       "      <th>0</th>\n",
       "      <td>Afghanistan</td>\n",
       "      <td>Islamic State of Afghanistan</td>\n",
       "      <td>Afghan afghani</td>\n",
       "      <td>Kabul</td>\n",
       "      <td>Southern Asia</td>\n",
       "      <td>Asia</td>\n",
       "      <td>Afghan</td>\n",
       "      <td>33.000000</td>\n",
       "      <td>65.000000</td>\n",
       "      <td>383560.0</td>\n",
       "      <td>...</td>\n",
       "      <td>41128771</td>\n",
       "      <td>27.01610</td>\n",
       "      <td>30181937</td>\n",
       "      <td>10946834</td>\n",
       "      <td>2.14</td>\n",
       "      <td>2.97</td>\n",
       "      <td>Authoritarian</td>\n",
       "      <td>12.9</td>\n",
       "      <td>Ashraf Ghani</td>\n",
       "      <td>President</td>\n",
       "    </tr>\n",
       "    <tr>\n",
       "      <th>1</th>\n",
       "      <td>Albania</td>\n",
       "      <td>Republic of Albania</td>\n",
       "      <td>Albanian lek</td>\n",
       "      <td>Tirana</td>\n",
       "      <td>Southern Europe</td>\n",
       "      <td>Europe</td>\n",
       "      <td>Albanian</td>\n",
       "      <td>41.000000</td>\n",
       "      <td>20.000000</td>\n",
       "      <td>11655.5</td>\n",
       "      <td>...</td>\n",
       "      <td>2775634</td>\n",
       "      <td>35.71430</td>\n",
       "      <td>1004807</td>\n",
       "      <td>1770827</td>\n",
       "      <td>2.62</td>\n",
       "      <td>5.98</td>\n",
       "      <td>Hybrid regime</td>\n",
       "      <td>33.7</td>\n",
       "      <td>Edi Rama</td>\n",
       "      <td>Prime Minister</td>\n",
       "    </tr>\n",
       "    <tr>\n",
       "      <th>2</th>\n",
       "      <td>Algeria</td>\n",
       "      <td>People's Democratic Republic of Algeria</td>\n",
       "      <td>Algerian dinar</td>\n",
       "      <td>Algiers</td>\n",
       "      <td>Northern Africa</td>\n",
       "      <td>Africa</td>\n",
       "      <td>Algerian</td>\n",
       "      <td>28.000000</td>\n",
       "      <td>3.000000</td>\n",
       "      <td>413588.0</td>\n",
       "      <td>...</td>\n",
       "      <td>44903225</td>\n",
       "      <td>8.10811</td>\n",
       "      <td>11328186</td>\n",
       "      <td>33575039</td>\n",
       "      <td>1.71</td>\n",
       "      <td>3.50</td>\n",
       "      <td>Authoritarian</td>\n",
       "      <td>24.0</td>\n",
       "      <td>Abdelmadjid Tebboune</td>\n",
       "      <td>President</td>\n",
       "    </tr>\n",
       "    <tr>\n",
       "      <th>3</th>\n",
       "      <td>Andorra</td>\n",
       "      <td>Principality of Andorra</td>\n",
       "      <td>Euro</td>\n",
       "      <td>Andorra la Vella</td>\n",
       "      <td>Southern Europe</td>\n",
       "      <td>Europe</td>\n",
       "      <td>Andorran</td>\n",
       "      <td>42.500000</td>\n",
       "      <td>1.500000</td>\n",
       "      <td>187.2</td>\n",
       "      <td>...</td>\n",
       "      <td>79824</td>\n",
       "      <td>46.42860</td>\n",
       "      <td>9730</td>\n",
       "      <td>70094</td>\n",
       "      <td>3.17</td>\n",
       "      <td>0.00</td>\n",
       "      <td>Unknown</td>\n",
       "      <td>38.9</td>\n",
       "      <td>Xavier Espot Zamora</td>\n",
       "      <td>Head of Government</td>\n",
       "    </tr>\n",
       "    <tr>\n",
       "      <th>4</th>\n",
       "      <td>Angola</td>\n",
       "      <td>People's Republic of Angola</td>\n",
       "      <td>Angolan kwanza</td>\n",
       "      <td>Luanda</td>\n",
       "      <td>Middle Africa</td>\n",
       "      <td>Africa</td>\n",
       "      <td>Angolan</td>\n",
       "      <td>-12.500000</td>\n",
       "      <td>18.500000</td>\n",
       "      <td>569525.0</td>\n",
       "      <td>...</td>\n",
       "      <td>35588987</td>\n",
       "      <td>33.63640</td>\n",
       "      <td>11359649</td>\n",
       "      <td>24229338</td>\n",
       "      <td>2.24</td>\n",
       "      <td>3.62</td>\n",
       "      <td>Authoritarian</td>\n",
       "      <td>12.4</td>\n",
       "      <td>João Lourenço</td>\n",
       "      <td>President</td>\n",
       "    </tr>\n",
       "    <tr>\n",
       "      <th>...</th>\n",
       "      <td>...</td>\n",
       "      <td>...</td>\n",
       "      <td>...</td>\n",
       "      <td>...</td>\n",
       "      <td>...</td>\n",
       "      <td>...</td>\n",
       "      <td>...</td>\n",
       "      <td>...</td>\n",
       "      <td>...</td>\n",
       "      <td>...</td>\n",
       "      <td>...</td>\n",
       "      <td>...</td>\n",
       "      <td>...</td>\n",
       "      <td>...</td>\n",
       "      <td>...</td>\n",
       "      <td>...</td>\n",
       "      <td>...</td>\n",
       "      <td>...</td>\n",
       "      <td>...</td>\n",
       "      <td>...</td>\n",
       "      <td>...</td>\n",
       "    </tr>\n",
       "    <tr>\n",
       "      <th>189</th>\n",
       "      <td>Vietnam</td>\n",
       "      <td>Socialist Republic of Vietnam</td>\n",
       "      <td>Vietnamese dong</td>\n",
       "      <td>Hanoi</td>\n",
       "      <td>South-Eastern Asia</td>\n",
       "      <td>Asia</td>\n",
       "      <td>Vietnamese</td>\n",
       "      <td>16.166667</td>\n",
       "      <td>107.833333</td>\n",
       "      <td>123600.0</td>\n",
       "      <td>...</td>\n",
       "      <td>98186856</td>\n",
       "      <td>30.26050</td>\n",
       "      <td>60123739</td>\n",
       "      <td>38063117</td>\n",
       "      <td>1.04</td>\n",
       "      <td>3.08</td>\n",
       "      <td>Authoritarian</td>\n",
       "      <td>28.4</td>\n",
       "      <td>Nguyễn Phú Trọng</td>\n",
       "      <td>General Secretary of the Communist Party</td>\n",
       "    </tr>\n",
       "    <tr>\n",
       "      <th>190</th>\n",
       "      <td>West Bank and Gaza</td>\n",
       "      <td>West Bank and Gaza</td>\n",
       "      <td>Israeli new shekel</td>\n",
       "      <td>Ramallah</td>\n",
       "      <td>Western Asia</td>\n",
       "      <td>Asia</td>\n",
       "      <td>Palestinian</td>\n",
       "      <td>31.900000</td>\n",
       "      <td>35.200000</td>\n",
       "      <td>4449.0</td>\n",
       "      <td>...</td>\n",
       "      <td>5043612</td>\n",
       "      <td>NaN</td>\n",
       "      <td>1145354</td>\n",
       "      <td>3898258</td>\n",
       "      <td>1.75</td>\n",
       "      <td>4.39</td>\n",
       "      <td>Hybrid regime</td>\n",
       "      <td>15.4</td>\n",
       "      <td>NaN</td>\n",
       "      <td>NaN</td>\n",
       "    </tr>\n",
       "    <tr>\n",
       "      <th>191</th>\n",
       "      <td>Yemen</td>\n",
       "      <td>Republic of Yemen</td>\n",
       "      <td>Yemeni rial</td>\n",
       "      <td>Sana'a</td>\n",
       "      <td>Western Asia</td>\n",
       "      <td>Asia</td>\n",
       "      <td>Yemeni</td>\n",
       "      <td>15.000000</td>\n",
       "      <td>48.000000</td>\n",
       "      <td>234520.0</td>\n",
       "      <td>...</td>\n",
       "      <td>33696614</td>\n",
       "      <td>0.00000</td>\n",
       "      <td>20491585</td>\n",
       "      <td>13205029</td>\n",
       "      <td>1.27</td>\n",
       "      <td>1.95</td>\n",
       "      <td>Authoritarian</td>\n",
       "      <td>14.8</td>\n",
       "      <td>Abdrabbuh Mansur Hadi</td>\n",
       "      <td>President</td>\n",
       "    </tr>\n",
       "    <tr>\n",
       "      <th>192</th>\n",
       "      <td>Zambia</td>\n",
       "      <td>Republic of Zambia</td>\n",
       "      <td>New Zambian kwacha</td>\n",
       "      <td>Lusaka</td>\n",
       "      <td>Eastern Africa</td>\n",
       "      <td>Africa</td>\n",
       "      <td>Zambian</td>\n",
       "      <td>-15.000000</td>\n",
       "      <td>30.000000</td>\n",
       "      <td>238360.0</td>\n",
       "      <td>...</td>\n",
       "      <td>20017675</td>\n",
       "      <td>15.06020</td>\n",
       "      <td>10857387</td>\n",
       "      <td>9160288</td>\n",
       "      <td>2.15</td>\n",
       "      <td>5.61</td>\n",
       "      <td>Hybrid regime</td>\n",
       "      <td>13.2</td>\n",
       "      <td>Edgar Lungu</td>\n",
       "      <td>President</td>\n",
       "    </tr>\n",
       "    <tr>\n",
       "      <th>193</th>\n",
       "      <td>Zimbabwe</td>\n",
       "      <td>Republic of Zimbabwe</td>\n",
       "      <td>U.S. dollar</td>\n",
       "      <td>Harare</td>\n",
       "      <td>Eastern Africa</td>\n",
       "      <td>Africa</td>\n",
       "      <td>Zimbabwean</td>\n",
       "      <td>-20.000000</td>\n",
       "      <td>30.000000</td>\n",
       "      <td>162000.0</td>\n",
       "      <td>...</td>\n",
       "      <td>16320537</td>\n",
       "      <td>30.56600</td>\n",
       "      <td>11033499</td>\n",
       "      <td>5287038</td>\n",
       "      <td>1.85</td>\n",
       "      <td>3.16</td>\n",
       "      <td>Authoritarian</td>\n",
       "      <td>14.2</td>\n",
       "      <td>Emmerson Mnangagwa</td>\n",
       "      <td>President</td>\n",
       "    </tr>\n",
       "  </tbody>\n",
       "</table>\n",
       "<p>194 rows × 64 columns</p>\n",
       "</div>"
      ],
      "text/plain": [
       "                country                             country_long  \\\n",
       "0           Afghanistan             Islamic State of Afghanistan   \n",
       "1               Albania                      Republic of Albania   \n",
       "2               Algeria  People's Democratic Republic of Algeria   \n",
       "3               Andorra                  Principality of Andorra   \n",
       "4                Angola              People's Republic of Angola   \n",
       "..                  ...                                      ...   \n",
       "189             Vietnam            Socialist Republic of Vietnam   \n",
       "190  West Bank and Gaza                       West Bank and Gaza   \n",
       "191               Yemen                        Republic of Yemen   \n",
       "192              Zambia                       Republic of Zambia   \n",
       "193            Zimbabwe                     Republic of Zimbabwe   \n",
       "\n",
       "               currency      capital_city              region continent  \\\n",
       "0        Afghan afghani             Kabul       Southern Asia      Asia   \n",
       "1          Albanian lek            Tirana     Southern Europe    Europe   \n",
       "2        Algerian dinar           Algiers     Northern Africa    Africa   \n",
       "3                  Euro  Andorra la Vella     Southern Europe    Europe   \n",
       "4        Angolan kwanza            Luanda       Middle Africa    Africa   \n",
       "..                  ...               ...                 ...       ...   \n",
       "189     Vietnamese dong             Hanoi  South-Eastern Asia      Asia   \n",
       "190  Israeli new shekel          Ramallah        Western Asia      Asia   \n",
       "191         Yemeni rial            Sana'a        Western Asia      Asia   \n",
       "192  New Zambian kwacha            Lusaka      Eastern Africa    Africa   \n",
       "193         U.S. dollar            Harare      Eastern Africa    Africa   \n",
       "\n",
       "         demonym   latitude   longitude  agricultural_land  ...  population  \\\n",
       "0         Afghan  33.000000   65.000000           383560.0  ...    41128771   \n",
       "1       Albanian  41.000000   20.000000            11655.5  ...     2775634   \n",
       "2       Algerian  28.000000    3.000000           413588.0  ...    44903225   \n",
       "3       Andorran  42.500000    1.500000              187.2  ...       79824   \n",
       "4        Angolan -12.500000   18.500000           569525.0  ...    35588987   \n",
       "..           ...        ...         ...                ...  ...         ...   \n",
       "189   Vietnamese  16.166667  107.833333           123600.0  ...    98186856   \n",
       "190  Palestinian  31.900000   35.200000             4449.0  ...     5043612   \n",
       "191       Yemeni  15.000000   48.000000           234520.0  ...    33696614   \n",
       "192      Zambian -15.000000   30.000000           238360.0  ...    20017675   \n",
       "193   Zimbabwean -20.000000   30.000000           162000.0  ...    16320537   \n",
       "\n",
       "     women_parliament_seats_pct  rural_population  urban_population  press  \\\n",
       "0                      27.01610          30181937          10946834   2.14   \n",
       "1                      35.71430           1004807           1770827   2.62   \n",
       "2                       8.10811          11328186          33575039   1.71   \n",
       "3                      46.42860              9730             70094   3.17   \n",
       "4                      33.63640          11359649          24229338   2.24   \n",
       "..                          ...               ...               ...    ...   \n",
       "189                    30.26050          60123739          38063117   1.04   \n",
       "190                         NaN           1145354           3898258   1.75   \n",
       "191                     0.00000          20491585          13205029   1.27   \n",
       "192                    15.06020          10857387           9160288   2.15   \n",
       "193                    30.56600          11033499           5287038   1.85   \n",
       "\n",
       "     democracy_score  democracy_type  median_age       political_leader  \\\n",
       "0               2.97   Authoritarian        12.9           Ashraf Ghani   \n",
       "1               5.98   Hybrid regime        33.7               Edi Rama   \n",
       "2               3.50   Authoritarian        24.0   Abdelmadjid Tebboune   \n",
       "3               0.00         Unknown        38.9    Xavier Espot Zamora   \n",
       "4               3.62   Authoritarian        12.4          João Lourenço   \n",
       "..               ...             ...         ...                    ...   \n",
       "189             3.08   Authoritarian        28.4       Nguyễn Phú Trọng   \n",
       "190             4.39   Hybrid regime        15.4                    NaN   \n",
       "191             1.95   Authoritarian        14.8  Abdrabbuh Mansur Hadi   \n",
       "192             5.61   Hybrid regime        13.2            Edgar Lungu   \n",
       "193             3.16   Authoritarian        14.2     Emmerson Mnangagwa   \n",
       "\n",
       "                                        title  \n",
       "0                                   President  \n",
       "1                              Prime Minister  \n",
       "2                                   President  \n",
       "3                          Head of Government  \n",
       "4                                   President  \n",
       "..                                        ...  \n",
       "189  General Secretary of the Communist Party  \n",
       "190                                       NaN  \n",
       "191                                 President  \n",
       "192                                 President  \n",
       "193                                 President  \n",
       "\n",
       "[194 rows x 64 columns]"
      ]
     },
     "execution_count": 3,
     "metadata": {},
     "output_type": "execute_result"
    }
   ],
   "source": [
    "df"
   ]
  },
  {
   "cell_type": "code",
   "execution_count": 5,
   "id": "cf667e7c-78be-486e-9158-66dcafe7e4de",
   "metadata": {},
   "outputs": [
    {
     "data": {
      "text/plain": [
       "(194, 64)"
      ]
     },
     "execution_count": 5,
     "metadata": {},
     "output_type": "execute_result"
    }
   ],
   "source": [
    "df.shape"
   ]
  },
  {
   "cell_type": "code",
   "execution_count": 6,
   "id": "2c68dea5-26f9-4ddd-9c1f-05230cbbed7c",
   "metadata": {},
   "outputs": [
    {
     "data": {
      "text/plain": [
       "<bound method DataFrame.info of                 country                             country_long  \\\n",
       "0           Afghanistan             Islamic State of Afghanistan   \n",
       "1               Albania                      Republic of Albania   \n",
       "2               Algeria  People's Democratic Republic of Algeria   \n",
       "3               Andorra                  Principality of Andorra   \n",
       "4                Angola              People's Republic of Angola   \n",
       "..                  ...                                      ...   \n",
       "189             Vietnam            Socialist Republic of Vietnam   \n",
       "190  West Bank and Gaza                       West Bank and Gaza   \n",
       "191               Yemen                        Republic of Yemen   \n",
       "192              Zambia                       Republic of Zambia   \n",
       "193            Zimbabwe                     Republic of Zimbabwe   \n",
       "\n",
       "               currency      capital_city              region continent  \\\n",
       "0        Afghan afghani             Kabul       Southern Asia      Asia   \n",
       "1          Albanian lek            Tirana     Southern Europe    Europe   \n",
       "2        Algerian dinar           Algiers     Northern Africa    Africa   \n",
       "3                  Euro  Andorra la Vella     Southern Europe    Europe   \n",
       "4        Angolan kwanza            Luanda       Middle Africa    Africa   \n",
       "..                  ...               ...                 ...       ...   \n",
       "189     Vietnamese dong             Hanoi  South-Eastern Asia      Asia   \n",
       "190  Israeli new shekel          Ramallah        Western Asia      Asia   \n",
       "191         Yemeni rial            Sana'a        Western Asia      Asia   \n",
       "192  New Zambian kwacha            Lusaka      Eastern Africa    Africa   \n",
       "193         U.S. dollar            Harare      Eastern Africa    Africa   \n",
       "\n",
       "         demonym   latitude   longitude  agricultural_land  ...  population  \\\n",
       "0         Afghan  33.000000   65.000000           383560.0  ...    41128771   \n",
       "1       Albanian  41.000000   20.000000            11655.5  ...     2775634   \n",
       "2       Algerian  28.000000    3.000000           413588.0  ...    44903225   \n",
       "3       Andorran  42.500000    1.500000              187.2  ...       79824   \n",
       "4        Angolan -12.500000   18.500000           569525.0  ...    35588987   \n",
       "..           ...        ...         ...                ...  ...         ...   \n",
       "189   Vietnamese  16.166667  107.833333           123600.0  ...    98186856   \n",
       "190  Palestinian  31.900000   35.200000             4449.0  ...     5043612   \n",
       "191       Yemeni  15.000000   48.000000           234520.0  ...    33696614   \n",
       "192      Zambian -15.000000   30.000000           238360.0  ...    20017675   \n",
       "193   Zimbabwean -20.000000   30.000000           162000.0  ...    16320537   \n",
       "\n",
       "     women_parliament_seats_pct  rural_population  urban_population  press  \\\n",
       "0                      27.01610          30181937          10946834   2.14   \n",
       "1                      35.71430           1004807           1770827   2.62   \n",
       "2                       8.10811          11328186          33575039   1.71   \n",
       "3                      46.42860              9730             70094   3.17   \n",
       "4                      33.63640          11359649          24229338   2.24   \n",
       "..                          ...               ...               ...    ...   \n",
       "189                    30.26050          60123739          38063117   1.04   \n",
       "190                         NaN           1145354           3898258   1.75   \n",
       "191                     0.00000          20491585          13205029   1.27   \n",
       "192                    15.06020          10857387           9160288   2.15   \n",
       "193                    30.56600          11033499           5287038   1.85   \n",
       "\n",
       "     democracy_score  democracy_type  median_age       political_leader  \\\n",
       "0               2.97   Authoritarian        12.9           Ashraf Ghani   \n",
       "1               5.98   Hybrid regime        33.7               Edi Rama   \n",
       "2               3.50   Authoritarian        24.0   Abdelmadjid Tebboune   \n",
       "3               0.00         Unknown        38.9    Xavier Espot Zamora   \n",
       "4               3.62   Authoritarian        12.4          João Lourenço   \n",
       "..               ...             ...         ...                    ...   \n",
       "189             3.08   Authoritarian        28.4       Nguyễn Phú Trọng   \n",
       "190             4.39   Hybrid regime        15.4                    NaN   \n",
       "191             1.95   Authoritarian        14.8  Abdrabbuh Mansur Hadi   \n",
       "192             5.61   Hybrid regime        13.2            Edgar Lungu   \n",
       "193             3.16   Authoritarian        14.2     Emmerson Mnangagwa   \n",
       "\n",
       "                                        title  \n",
       "0                                   President  \n",
       "1                              Prime Minister  \n",
       "2                                   President  \n",
       "3                          Head of Government  \n",
       "4                                   President  \n",
       "..                                        ...  \n",
       "189  General Secretary of the Communist Party  \n",
       "190                                       NaN  \n",
       "191                                 President  \n",
       "192                                 President  \n",
       "193                                 President  \n",
       "\n",
       "[194 rows x 64 columns]>"
      ]
     },
     "execution_count": 6,
     "metadata": {},
     "output_type": "execute_result"
    }
   ],
   "source": [
    "df.info"
   ]
  },
  {
   "cell_type": "code",
   "execution_count": 8,
   "id": "9fa1a40d-cc4a-4304-81f6-9e9eb5e437fe",
   "metadata": {},
   "outputs": [
    {
     "data": {
      "text/plain": [
       "<bound method NDFrame.describe of                 country                             country_long  \\\n",
       "0           Afghanistan             Islamic State of Afghanistan   \n",
       "1               Albania                      Republic of Albania   \n",
       "2               Algeria  People's Democratic Republic of Algeria   \n",
       "3               Andorra                  Principality of Andorra   \n",
       "4                Angola              People's Republic of Angola   \n",
       "..                  ...                                      ...   \n",
       "189             Vietnam            Socialist Republic of Vietnam   \n",
       "190  West Bank and Gaza                       West Bank and Gaza   \n",
       "191               Yemen                        Republic of Yemen   \n",
       "192              Zambia                       Republic of Zambia   \n",
       "193            Zimbabwe                     Republic of Zimbabwe   \n",
       "\n",
       "               currency      capital_city              region continent  \\\n",
       "0        Afghan afghani             Kabul       Southern Asia      Asia   \n",
       "1          Albanian lek            Tirana     Southern Europe    Europe   \n",
       "2        Algerian dinar           Algiers     Northern Africa    Africa   \n",
       "3                  Euro  Andorra la Vella     Southern Europe    Europe   \n",
       "4        Angolan kwanza            Luanda       Middle Africa    Africa   \n",
       "..                  ...               ...                 ...       ...   \n",
       "189     Vietnamese dong             Hanoi  South-Eastern Asia      Asia   \n",
       "190  Israeli new shekel          Ramallah        Western Asia      Asia   \n",
       "191         Yemeni rial            Sana'a        Western Asia      Asia   \n",
       "192  New Zambian kwacha            Lusaka      Eastern Africa    Africa   \n",
       "193         U.S. dollar            Harare      Eastern Africa    Africa   \n",
       "\n",
       "         demonym   latitude   longitude  agricultural_land  ...  population  \\\n",
       "0         Afghan  33.000000   65.000000           383560.0  ...    41128771   \n",
       "1       Albanian  41.000000   20.000000            11655.5  ...     2775634   \n",
       "2       Algerian  28.000000    3.000000           413588.0  ...    44903225   \n",
       "3       Andorran  42.500000    1.500000              187.2  ...       79824   \n",
       "4        Angolan -12.500000   18.500000           569525.0  ...    35588987   \n",
       "..           ...        ...         ...                ...  ...         ...   \n",
       "189   Vietnamese  16.166667  107.833333           123600.0  ...    98186856   \n",
       "190  Palestinian  31.900000   35.200000             4449.0  ...     5043612   \n",
       "191       Yemeni  15.000000   48.000000           234520.0  ...    33696614   \n",
       "192      Zambian -15.000000   30.000000           238360.0  ...    20017675   \n",
       "193   Zimbabwean -20.000000   30.000000           162000.0  ...    16320537   \n",
       "\n",
       "     women_parliament_seats_pct  rural_population  urban_population  press  \\\n",
       "0                      27.01610          30181937          10946834   2.14   \n",
       "1                      35.71430           1004807           1770827   2.62   \n",
       "2                       8.10811          11328186          33575039   1.71   \n",
       "3                      46.42860              9730             70094   3.17   \n",
       "4                      33.63640          11359649          24229338   2.24   \n",
       "..                          ...               ...               ...    ...   \n",
       "189                    30.26050          60123739          38063117   1.04   \n",
       "190                         NaN           1145354           3898258   1.75   \n",
       "191                     0.00000          20491585          13205029   1.27   \n",
       "192                    15.06020          10857387           9160288   2.15   \n",
       "193                    30.56600          11033499           5287038   1.85   \n",
       "\n",
       "     democracy_score  democracy_type  median_age       political_leader  \\\n",
       "0               2.97   Authoritarian        12.9           Ashraf Ghani   \n",
       "1               5.98   Hybrid regime        33.7               Edi Rama   \n",
       "2               3.50   Authoritarian        24.0   Abdelmadjid Tebboune   \n",
       "3               0.00         Unknown        38.9    Xavier Espot Zamora   \n",
       "4               3.62   Authoritarian        12.4          João Lourenço   \n",
       "..               ...             ...         ...                    ...   \n",
       "189             3.08   Authoritarian        28.4       Nguyễn Phú Trọng   \n",
       "190             4.39   Hybrid regime        15.4                    NaN   \n",
       "191             1.95   Authoritarian        14.8  Abdrabbuh Mansur Hadi   \n",
       "192             5.61   Hybrid regime        13.2            Edgar Lungu   \n",
       "193             3.16   Authoritarian        14.2     Emmerson Mnangagwa   \n",
       "\n",
       "                                        title  \n",
       "0                                   President  \n",
       "1                              Prime Minister  \n",
       "2                                   President  \n",
       "3                          Head of Government  \n",
       "4                                   President  \n",
       "..                                        ...  \n",
       "189  General Secretary of the Communist Party  \n",
       "190                                       NaN  \n",
       "191                                 President  \n",
       "192                                 President  \n",
       "193                                 President  \n",
       "\n",
       "[194 rows x 64 columns]>"
      ]
     },
     "execution_count": 8,
     "metadata": {},
     "output_type": "execute_result"
    }
   ],
   "source": [
    "df.describe"
   ]
  },
  {
   "cell_type": "code",
   "execution_count": null,
   "id": "1cbfa761-b4a9-467c-bcb6-00abe59e4ffa",
   "metadata": {},
   "outputs": [],
   "source": [
    "#which country has the highest population"
   ]
  },
  {
   "cell_type": "code",
   "execution_count": 9,
   "id": "497958d8-02f2-4379-bb57-07b41e9e0f02",
   "metadata": {},
   "outputs": [
    {
     "data": {
      "text/plain": [
       "75    India\n",
       "Name: country, dtype: object"
      ]
     },
     "execution_count": 9,
     "metadata": {},
     "output_type": "execute_result"
    }
   ],
   "source": [
    "df[df['population'] == df['population'].max()]['country']"
   ]
  },
  {
   "cell_type": "code",
   "execution_count": 10,
   "id": "f6014c64-4831-47fe-b68d-607197b5c45c",
   "metadata": {},
   "outputs": [
    {
     "data": {
      "text/plain": [
       "Index(['country', 'country_long', 'currency', 'capital_city', 'region',\n",
       "       'continent', 'demonym', 'latitude', 'longitude', 'agricultural_land',\n",
       "       'forest_area', 'land_area', 'rural_land', 'urban_land',\n",
       "       'central_government_debt_pct_gdp', 'expense_pct_gdp', 'gdp',\n",
       "       'inflation', 'self_employed_pct', 'tax_revenue_pct_gdp',\n",
       "       'unemployment_pct', 'vulnerable_employment_pct',\n",
       "       'electricity_access_pct', 'alternative_nuclear_energy_pct',\n",
       "       'electricty_production_coal_pct',\n",
       "       'electricty_production_hydroelectric_pct',\n",
       "       'electricty_production_gas_pct', 'electricty_production_nuclear_pct',\n",
       "       'electricty_production_oil_pct', 'electricty_production_renewable_pct',\n",
       "       'energy_imports_pct', 'fossil_energy_consumption_pct',\n",
       "       'renewable_energy_consumption_pct', 'co2_emissions',\n",
       "       'methane_emissions', 'nitrous_oxide_emissions',\n",
       "       'greenhouse_other_emissions', 'urban_population_under_5m',\n",
       "       'health_expenditure_pct_gdp', 'health_expenditure_capita',\n",
       "       'hospital_beds', 'hiv_incidence', 'suicide_rate', 'armed_forces',\n",
       "       'internally_displaced_persons', 'military_expenditure_pct_gdp',\n",
       "       'birth_rate', 'death_rate', 'fertility_rate', 'internet_pct',\n",
       "       'life_expectancy', 'net_migration', 'population_female',\n",
       "       'population_male', 'population', 'women_parliament_seats_pct',\n",
       "       'rural_population', 'urban_population', 'press', 'democracy_score',\n",
       "       'democracy_type', 'median_age', 'political_leader', 'title'],\n",
       "      dtype='object')"
      ]
     },
     "execution_count": 10,
     "metadata": {},
     "output_type": "execute_result"
    }
   ],
   "source": [
    "df.columns"
   ]
  },
  {
   "cell_type": "code",
   "execution_count": null,
   "id": "0c9a1df9-0a84-4aff-bd19-2bd01d245843",
   "metadata": {},
   "outputs": [],
   "source": [
    "#what is the capital of the country with highest population"
   ]
  },
  {
   "cell_type": "code",
   "execution_count": 12,
   "id": "94daaa40-d7e6-4f79-9e43-c8c3f34af7f3",
   "metadata": {},
   "outputs": [
    {
     "data": {
      "text/plain": [
       "75    New Delhi\n",
       "Name: capital_city, dtype: object"
      ]
     },
     "execution_count": 12,
     "metadata": {},
     "output_type": "execute_result"
    }
   ],
   "source": [
    "df[df['population'] == df['population'].max()]['capital_city']"
   ]
  },
  {
   "cell_type": "code",
   "execution_count": null,
   "id": "2212ce14-bb7a-4114-a114-3f8e2f62f0fe",
   "metadata": {},
   "outputs": [],
   "source": [
    "#which country has the least population"
   ]
  },
  {
   "cell_type": "code",
   "execution_count": 14,
   "id": "571f2c79-642b-468d-a42d-0077f6237a68",
   "metadata": {},
   "outputs": [
    {
     "data": {
      "text/plain": [
       "179    Tuvalu\n",
       "Name: country, dtype: object"
      ]
     },
     "execution_count": 14,
     "metadata": {},
     "output_type": "execute_result"
    }
   ],
   "source": [
    "df[df['population'] == df['population'].min()]['country']"
   ]
  },
  {
   "cell_type": "code",
   "execution_count": null,
   "id": "17160a81-c1eb-4bd5-a31b-fcba37be88b4",
   "metadata": {},
   "outputs": [],
   "source": [
    "#what is the capital of the country with least population"
   ]
  },
  {
   "cell_type": "code",
   "execution_count": 16,
   "id": "844c8e9c-19e0-4836-9086-90fa6e1da9e0",
   "metadata": {},
   "outputs": [
    {
     "data": {
      "text/plain": [
       "179    Funafuti\n",
       "Name: capital_city, dtype: object"
      ]
     },
     "execution_count": 16,
     "metadata": {},
     "output_type": "execute_result"
    }
   ],
   "source": [
    "df[df['population'] == df['population'].min()]['capital_city']"
   ]
  },
  {
   "cell_type": "code",
   "execution_count": null,
   "id": "de8a352b-2c8f-4a0c-875e-e8312c3a8913",
   "metadata": {},
   "outputs": [],
   "source": [
    "#give me top 5 countries withh highest democratic score"
   ]
  },
  {
   "cell_type": "code",
   "execution_count": 17,
   "id": "acfd499b-6d43-4831-a010-690c1c588a5f",
   "metadata": {},
   "outputs": [],
   "source": [
    "df.sort_values(by = 'democracy_score',ascending = False , inplace = True)"
   ]
  },
  {
   "cell_type": "code",
   "execution_count": 18,
   "id": "3770a8cc-319d-47c1-9d08-2a7b55b42afe",
   "metadata": {},
   "outputs": [
    {
     "data": {
      "text/html": [
       "<div>\n",
       "<style scoped>\n",
       "    .dataframe tbody tr th:only-of-type {\n",
       "        vertical-align: middle;\n",
       "    }\n",
       "\n",
       "    .dataframe tbody tr th {\n",
       "        vertical-align: top;\n",
       "    }\n",
       "\n",
       "    .dataframe thead th {\n",
       "        text-align: right;\n",
       "    }\n",
       "</style>\n",
       "<table border=\"1\" class=\"dataframe\">\n",
       "  <thead>\n",
       "    <tr style=\"text-align: right;\">\n",
       "      <th></th>\n",
       "      <th>country</th>\n",
       "      <th>country_long</th>\n",
       "      <th>currency</th>\n",
       "      <th>capital_city</th>\n",
       "      <th>region</th>\n",
       "      <th>continent</th>\n",
       "      <th>demonym</th>\n",
       "      <th>latitude</th>\n",
       "      <th>longitude</th>\n",
       "      <th>agricultural_land</th>\n",
       "      <th>...</th>\n",
       "      <th>population</th>\n",
       "      <th>women_parliament_seats_pct</th>\n",
       "      <th>rural_population</th>\n",
       "      <th>urban_population</th>\n",
       "      <th>press</th>\n",
       "      <th>democracy_score</th>\n",
       "      <th>democracy_type</th>\n",
       "      <th>median_age</th>\n",
       "      <th>political_leader</th>\n",
       "      <th>title</th>\n",
       "    </tr>\n",
       "  </thead>\n",
       "  <tbody>\n",
       "    <tr>\n",
       "      <th>127</th>\n",
       "      <td>Norway</td>\n",
       "      <td>Kingdom of Norway</td>\n",
       "      <td>Norwegian krone</td>\n",
       "      <td>Oslo</td>\n",
       "      <td>Northern Europe</td>\n",
       "      <td>Europe</td>\n",
       "      <td>Norwegian</td>\n",
       "      <td>62.0</td>\n",
       "      <td>10.0</td>\n",
       "      <td>9859.62</td>\n",
       "      <td>...</td>\n",
       "      <td>5457127</td>\n",
       "      <td>44.9704</td>\n",
       "      <td>891476</td>\n",
       "      <td>4565651</td>\n",
       "      <td>10.00</td>\n",
       "      <td>9.87</td>\n",
       "      <td>Full democracy</td>\n",
       "      <td>35.6</td>\n",
       "      <td>Erna Solberg</td>\n",
       "      <td>Prime Minister</td>\n",
       "    </tr>\n",
       "    <tr>\n",
       "      <th>74</th>\n",
       "      <td>Iceland</td>\n",
       "      <td>Republic of Iceland</td>\n",
       "      <td>Iceland krona</td>\n",
       "      <td>Reykjavík</td>\n",
       "      <td>Northern Europe</td>\n",
       "      <td>Europe</td>\n",
       "      <td>Icelander</td>\n",
       "      <td>65.0</td>\n",
       "      <td>-18.0</td>\n",
       "      <td>18720.00</td>\n",
       "      <td>...</td>\n",
       "      <td>381900</td>\n",
       "      <td>47.6190</td>\n",
       "      <td>22945</td>\n",
       "      <td>358955</td>\n",
       "      <td>5.32</td>\n",
       "      <td>9.58</td>\n",
       "      <td>Full democracy</td>\n",
       "      <td>32.1</td>\n",
       "      <td>Katrín Jakobsdóttir</td>\n",
       "      <td>Prime Minister</td>\n",
       "    </tr>\n",
       "    <tr>\n",
       "      <th>164</th>\n",
       "      <td>Sweden</td>\n",
       "      <td>Kingdom of Sweden</td>\n",
       "      <td>Swedish krona</td>\n",
       "      <td>Stockholm</td>\n",
       "      <td>Northern Europe</td>\n",
       "      <td>Europe</td>\n",
       "      <td>Swedish</td>\n",
       "      <td>62.0</td>\n",
       "      <td>15.0</td>\n",
       "      <td>30055.40</td>\n",
       "      <td>...</td>\n",
       "      <td>10486941</td>\n",
       "      <td>46.4183</td>\n",
       "      <td>1206837</td>\n",
       "      <td>9280104</td>\n",
       "      <td>9.41</td>\n",
       "      <td>9.39</td>\n",
       "      <td>Full democracy</td>\n",
       "      <td>35.6</td>\n",
       "      <td>Stefan Löfven</td>\n",
       "      <td>Prime Minister</td>\n",
       "    </tr>\n",
       "    <tr>\n",
       "      <th>122</th>\n",
       "      <td>New Zealand</td>\n",
       "      <td>New Zealand</td>\n",
       "      <td>New Zealand dollar</td>\n",
       "      <td>Wellington</td>\n",
       "      <td>Australia and New Zealand</td>\n",
       "      <td>Oceania</td>\n",
       "      <td>New Zealander</td>\n",
       "      <td>-41.0</td>\n",
       "      <td>174.0</td>\n",
       "      <td>101540.00</td>\n",
       "      <td>...</td>\n",
       "      <td>5124100</td>\n",
       "      <td>50.4202</td>\n",
       "      <td>672077</td>\n",
       "      <td>4452023</td>\n",
       "      <td>7.27</td>\n",
       "      <td>9.26</td>\n",
       "      <td>Full democracy</td>\n",
       "      <td>32.8</td>\n",
       "      <td>Jacinda Ardern</td>\n",
       "      <td>Prime Minister</td>\n",
       "    </tr>\n",
       "    <tr>\n",
       "      <th>46</th>\n",
       "      <td>Denmark</td>\n",
       "      <td>Kingdom of Denmark</td>\n",
       "      <td>Danish krone</td>\n",
       "      <td>Copenhagen</td>\n",
       "      <td>Northern Europe</td>\n",
       "      <td>Europe</td>\n",
       "      <td>Danish</td>\n",
       "      <td>56.0</td>\n",
       "      <td>10.0</td>\n",
       "      <td>26199.90</td>\n",
       "      <td>...</td>\n",
       "      <td>5903037</td>\n",
       "      <td>43.5754</td>\n",
       "      <td>686700</td>\n",
       "      <td>5216337</td>\n",
       "      <td>7.92</td>\n",
       "      <td>9.22</td>\n",
       "      <td>Full democracy</td>\n",
       "      <td>37.2</td>\n",
       "      <td>Mette Frederiksen</td>\n",
       "      <td>Prime Minister</td>\n",
       "    </tr>\n",
       "  </tbody>\n",
       "</table>\n",
       "<p>5 rows × 64 columns</p>\n",
       "</div>"
      ],
      "text/plain": [
       "         country         country_long            currency capital_city  \\\n",
       "127       Norway    Kingdom of Norway     Norwegian krone         Oslo   \n",
       "74       Iceland  Republic of Iceland       Iceland krona    Reykjavík   \n",
       "164       Sweden    Kingdom of Sweden       Swedish krona    Stockholm   \n",
       "122  New Zealand          New Zealand  New Zealand dollar   Wellington   \n",
       "46       Denmark   Kingdom of Denmark        Danish krone   Copenhagen   \n",
       "\n",
       "                        region continent        demonym  latitude  longitude  \\\n",
       "127            Northern Europe    Europe      Norwegian      62.0       10.0   \n",
       "74             Northern Europe    Europe      Icelander      65.0      -18.0   \n",
       "164            Northern Europe    Europe        Swedish      62.0       15.0   \n",
       "122  Australia and New Zealand   Oceania  New Zealander     -41.0      174.0   \n",
       "46             Northern Europe    Europe         Danish      56.0       10.0   \n",
       "\n",
       "     agricultural_land  ...  population  women_parliament_seats_pct  \\\n",
       "127            9859.62  ...     5457127                     44.9704   \n",
       "74            18720.00  ...      381900                     47.6190   \n",
       "164           30055.40  ...    10486941                     46.4183   \n",
       "122          101540.00  ...     5124100                     50.4202   \n",
       "46            26199.90  ...     5903037                     43.5754   \n",
       "\n",
       "     rural_population  urban_population  press  democracy_score  \\\n",
       "127            891476           4565651  10.00             9.87   \n",
       "74              22945            358955   5.32             9.58   \n",
       "164           1206837           9280104   9.41             9.39   \n",
       "122            672077           4452023   7.27             9.26   \n",
       "46             686700           5216337   7.92             9.22   \n",
       "\n",
       "     democracy_type  median_age     political_leader           title  \n",
       "127  Full democracy        35.6         Erna Solberg  Prime Minister  \n",
       "74   Full democracy        32.1  Katrín Jakobsdóttir  Prime Minister  \n",
       "164  Full democracy        35.6        Stefan Löfven  Prime Minister  \n",
       "122  Full democracy        32.8       Jacinda Ardern  Prime Minister  \n",
       "46   Full democracy        37.2    Mette Frederiksen  Prime Minister  \n",
       "\n",
       "[5 rows x 64 columns]"
      ]
     },
     "execution_count": 18,
     "metadata": {},
     "output_type": "execute_result"
    }
   ],
   "source": [
    "df.head()"
   ]
  },
  {
   "cell_type": "code",
   "execution_count": 19,
   "id": "99ac0294-fd5a-407a-8d15-21d14ec8a365",
   "metadata": {},
   "outputs": [
    {
     "data": {
      "text/plain": [
       "127         Norway\n",
       "74         Iceland\n",
       "164         Sweden\n",
       "122    New Zealand\n",
       "46         Denmark\n",
       "Name: country, dtype: object"
      ]
     },
     "execution_count": 19,
     "metadata": {},
     "output_type": "execute_result"
    }
   ],
   "source": [
    "df['country'].head()"
   ]
  },
  {
   "cell_type": "code",
   "execution_count": null,
   "id": "9a7b7bec-ee83-44be-b3ae-1c9f8f043ecf",
   "metadata": {},
   "outputs": [],
   "source": [
    "#how many total regions are there"
   ]
  },
  {
   "cell_type": "code",
   "execution_count": 21,
   "id": "45537342-bef4-45c5-9b9e-d04600c0b3c7",
   "metadata": {},
   "outputs": [
    {
     "data": {
      "text/plain": [
       "np.int64(22)"
      ]
     },
     "execution_count": 21,
     "metadata": {},
     "output_type": "execute_result"
    }
   ],
   "source": [
    "df['region'].value_counts().count()"
   ]
  },
  {
   "cell_type": "code",
   "execution_count": null,
   "id": "4908d418-cf66-4ec7-a2d3-50ef16fa5fb0",
   "metadata": {},
   "outputs": [],
   "source": [
    "#how many countries lie in eastern europe region"
   ]
  },
  {
   "cell_type": "code",
   "execution_count": 24,
   "id": "b574eb8b-1010-476f-910b-e33c0d99f18f",
   "metadata": {},
   "outputs": [
    {
     "data": {
      "text/plain": [
       "43      Czech Republic\n",
       "151    Slovak Republic\n",
       "24            Bulgaria\n",
       "136             Poland\n",
       "73             Hungary\n",
       "139            Romania\n",
       "111            Moldova\n",
       "181            Ukraine\n",
       "14             Belarus\n",
       "140             Russia\n",
       "Name: country, dtype: object"
      ]
     },
     "execution_count": 24,
     "metadata": {},
     "output_type": "execute_result"
    }
   ],
   "source": [
    "df[df['region'] == \"Eastern Europe\"]['country']"
   ]
  },
  {
   "cell_type": "code",
   "execution_count": null,
   "id": "f89d3e35-03ee-46db-bcf0-a1d1525a72bb",
   "metadata": {},
   "outputs": [],
   "source": [
    "#who is the political leader of the 2nd highest populated country"
   ]
  },
  {
   "cell_type": "code",
   "execution_count": 27,
   "id": "1309633a-05e3-4ac1-b9e9-36e11cb26622",
   "metadata": {},
   "outputs": [
    {
     "data": {
      "text/plain": [
       "34    Xi Jinping\n",
       "Name: political_leader, dtype: object"
      ]
     },
     "execution_count": 27,
     "metadata": {},
     "output_type": "execute_result"
    }
   ],
   "source": [
    "df[df['population'] == df['population'].nlargest(2).iloc[1]]['political_leader']"
   ]
  },
  {
   "cell_type": "code",
   "execution_count": null,
   "id": "8f50c1f7-5700-4008-99d9-a9ed92a7adbb",
   "metadata": {},
   "outputs": [],
   "source": [
    "#how many countries are there political leaders are unknown"
   ]
  },
  {
   "cell_type": "code",
   "execution_count": 30,
   "id": "dbda48d6-22ef-4d98-add2-9a157417cedd",
   "metadata": {},
   "outputs": [
    {
     "data": {
      "text/plain": [
       "np.int64(7)"
      ]
     },
     "execution_count": 30,
     "metadata": {},
     "output_type": "execute_result"
    }
   ],
   "source": [
    "df[df['political_leader'].isna()]['country'].count()"
   ]
  },
  {
   "cell_type": "code",
   "execution_count": null,
   "id": "44d438bf-766f-4b4b-86a9-f583279e19d6",
   "metadata": {},
   "outputs": [],
   "source": [
    "#how many country have republic in their full name"
   ]
  },
  {
   "cell_type": "code",
   "execution_count": 33,
   "id": "a13c2b1e-fd87-45dd-8835-8dd6ef997d34",
   "metadata": {},
   "outputs": [
    {
     "name": "stdout",
     "output_type": "stream",
     "text": [
      "125\n"
     ]
    }
   ],
   "source": [
    "count = 0\n",
    "def counting(txt):\n",
    "    global count\n",
    "    if 'republic' in txt.lower():\n",
    "        count += 1\n",
    "    return txt\n",
    "df['country_long']=df['country_long'].apply(counting)\n",
    "print(count)\n",
    "        "
   ]
  },
  {
   "cell_type": "code",
   "execution_count": null,
   "id": "650643db-5b05-4ef3-9d95-e79ef3278120",
   "metadata": {},
   "outputs": [],
   "source": [
    "#which country in african ha highest population"
   ]
  },
  {
   "cell_type": "code",
   "execution_count": 36,
   "id": "1140876b-dc33-4c2f-b82e-ac536e21fca3",
   "metadata": {},
   "outputs": [],
   "source": [
    "africa_df = df[df['continent'] == 'Africa']"
   ]
  },
  {
   "cell_type": "code",
   "execution_count": 37,
   "id": "6112ce8d-49d5-45e3-a8bb-364435238328",
   "metadata": {},
   "outputs": [
    {
     "data": {
      "text/plain": [
       "125    Nigeria\n",
       "Name: country, dtype: object"
      ]
     },
     "execution_count": 37,
     "metadata": {},
     "output_type": "execute_result"
    }
   ],
   "source": [
    "africa_df[africa_df['population'] == africa_df['population'].max()]['country']"
   ]
  },
  {
   "cell_type": "code",
   "execution_count": null,
   "id": "a54ac609-7b42-45b7-8619-a388b26e9127",
   "metadata": {},
   "outputs": [],
   "source": []
  },
  {
   "cell_type": "code",
   "execution_count": null,
   "id": "f12c3cc5-948b-4bcd-a823-00353f77e36f",
   "metadata": {},
   "outputs": [],
   "source": []
  }
 ],
 "metadata": {
  "kernelspec": {
   "display_name": "Python 3 (ipykernel)",
   "language": "python",
   "name": "python3"
  },
  "language_info": {
   "codemirror_mode": {
    "name": "ipython",
    "version": 3
   },
   "file_extension": ".py",
   "mimetype": "text/x-python",
   "name": "python",
   "nbconvert_exporter": "python",
   "pygments_lexer": "ipython3",
   "version": "3.13.5"
  }
 },
 "nbformat": 4,
 "nbformat_minor": 5
}
